{
  "nbformat": 4,
  "nbformat_minor": 0,
  "metadata": {
    "colab": {
      "provenance": [],
      "authorship_tag": "ABX9TyNJuQJSAFvqiGTGUfVtDjYS",
      "include_colab_link": true
    },
    "kernelspec": {
      "name": "python3",
      "display_name": "Python 3"
    },
    "language_info": {
      "name": "python"
    }
  },
  "cells": [
    {
      "cell_type": "markdown",
      "metadata": {
        "id": "view-in-github",
        "colab_type": "text"
      },
      "source": [
        "<a href=\"https://colab.research.google.com/github/alilotfi90/Ali_in_the_Quantum_Land/blob/main/deutch_josza.ipynb\" target=\"_parent\"><img src=\"https://colab.research.google.com/assets/colab-badge.svg\" alt=\"Open In Colab\"/></a>"
      ]
    },
    {
      "cell_type": "code",
      "execution_count": 2,
      "metadata": {
        "colab": {
          "base_uri": "https://localhost:8080/"
        },
        "id": "mPU5ao-96hru",
        "outputId": "3ec4a8bf-d8e9-4851-c619-f581900f7229"
      },
      "outputs": [
        {
          "output_type": "stream",
          "name": "stdout",
          "text": [
            "Requirement already satisfied: qiskit==0.37 in /usr/local/lib/python3.10/dist-packages (0.37.0)\n",
            "Requirement already satisfied: qiskit-terra==0.21.0 in /usr/local/lib/python3.10/dist-packages (from qiskit==0.37) (0.21.0)\n",
            "Requirement already satisfied: qiskit-aer==0.10.4 in /usr/local/lib/python3.10/dist-packages (from qiskit==0.37) (0.10.4)\n",
            "Requirement already satisfied: qiskit-ibmq-provider==0.19.2 in /usr/local/lib/python3.10/dist-packages (from qiskit==0.37) (0.19.2)\n",
            "Requirement already satisfied: numpy>=1.16.3 in /usr/local/lib/python3.10/dist-packages (from qiskit-aer==0.10.4->qiskit==0.37) (1.25.2)\n",
            "Requirement already satisfied: scipy>=1.0 in /usr/local/lib/python3.10/dist-packages (from qiskit-aer==0.10.4->qiskit==0.37) (1.11.4)\n",
            "Requirement already satisfied: requests>=2.19 in /usr/local/lib/python3.10/dist-packages (from qiskit-ibmq-provider==0.19.2->qiskit==0.37) (2.31.0)\n",
            "Requirement already satisfied: requests-ntlm>=1.1.0 in /usr/local/lib/python3.10/dist-packages (from qiskit-ibmq-provider==0.19.2->qiskit==0.37) (1.2.0)\n",
            "Requirement already satisfied: urllib3>=1.21.1 in /usr/local/lib/python3.10/dist-packages (from qiskit-ibmq-provider==0.19.2->qiskit==0.37) (2.0.7)\n",
            "Requirement already satisfied: python-dateutil>=2.8.0 in /usr/local/lib/python3.10/dist-packages (from qiskit-ibmq-provider==0.19.2->qiskit==0.37) (2.8.2)\n",
            "Requirement already satisfied: websocket-client>=1.0.1 in /usr/local/lib/python3.10/dist-packages (from qiskit-ibmq-provider==0.19.2->qiskit==0.37) (1.7.0)\n",
            "Requirement already satisfied: websockets>=10.0 in /usr/local/lib/python3.10/dist-packages (from qiskit-ibmq-provider==0.19.2->qiskit==0.37) (12.0)\n",
            "Requirement already satisfied: retworkx>=0.11.0 in /usr/local/lib/python3.10/dist-packages (from qiskit-terra==0.21.0->qiskit==0.37) (0.14.2)\n",
            "Requirement already satisfied: ply>=3.10 in /usr/local/lib/python3.10/dist-packages (from qiskit-terra==0.21.0->qiskit==0.37) (3.11)\n",
            "Requirement already satisfied: psutil>=5 in /usr/local/lib/python3.10/dist-packages (from qiskit-terra==0.21.0->qiskit==0.37) (5.9.5)\n",
            "Requirement already satisfied: sympy>=1.3 in /usr/local/lib/python3.10/dist-packages (from qiskit-terra==0.21.0->qiskit==0.37) (1.12)\n",
            "Requirement already satisfied: dill>=0.3 in /usr/local/lib/python3.10/dist-packages (from qiskit-terra==0.21.0->qiskit==0.37) (0.3.8)\n",
            "Requirement already satisfied: stevedore>=3.0.0 in /usr/local/lib/python3.10/dist-packages (from qiskit-terra==0.21.0->qiskit==0.37) (5.2.0)\n",
            "Requirement already satisfied: tweedledum<2.0,>=1.1 in /usr/local/lib/python3.10/dist-packages (from qiskit-terra==0.21.0->qiskit==0.37) (1.1.1)\n",
            "Requirement already satisfied: symengine>=0.9 in /usr/local/lib/python3.10/dist-packages (from qiskit-terra==0.21.0->qiskit==0.37) (0.11.0)\n",
            "Requirement already satisfied: six>=1.5 in /usr/local/lib/python3.10/dist-packages (from python-dateutil>=2.8.0->qiskit-ibmq-provider==0.19.2->qiskit==0.37) (1.16.0)\n",
            "Requirement already satisfied: charset-normalizer<4,>=2 in /usr/local/lib/python3.10/dist-packages (from requests>=2.19->qiskit-ibmq-provider==0.19.2->qiskit==0.37) (3.3.2)\n",
            "Requirement already satisfied: idna<4,>=2.5 in /usr/local/lib/python3.10/dist-packages (from requests>=2.19->qiskit-ibmq-provider==0.19.2->qiskit==0.37) (3.6)\n",
            "Requirement already satisfied: certifi>=2017.4.17 in /usr/local/lib/python3.10/dist-packages (from requests>=2.19->qiskit-ibmq-provider==0.19.2->qiskit==0.37) (2024.2.2)\n",
            "Requirement already satisfied: cryptography>=1.3 in /usr/local/lib/python3.10/dist-packages (from requests-ntlm>=1.1.0->qiskit-ibmq-provider==0.19.2->qiskit==0.37) (42.0.5)\n",
            "Requirement already satisfied: pyspnego>=0.1.6 in /usr/local/lib/python3.10/dist-packages (from requests-ntlm>=1.1.0->qiskit-ibmq-provider==0.19.2->qiskit==0.37) (0.10.2)\n",
            "Requirement already satisfied: rustworkx==0.14.2 in /usr/local/lib/python3.10/dist-packages (from retworkx>=0.11.0->qiskit-terra==0.21.0->qiskit==0.37) (0.14.2)\n",
            "Requirement already satisfied: pbr!=2.1.0,>=2.0.0 in /usr/local/lib/python3.10/dist-packages (from stevedore>=3.0.0->qiskit-terra==0.21.0->qiskit==0.37) (6.0.0)\n",
            "Requirement already satisfied: mpmath>=0.19 in /usr/local/lib/python3.10/dist-packages (from sympy>=1.3->qiskit-terra==0.21.0->qiskit==0.37) (1.3.0)\n",
            "Requirement already satisfied: cffi>=1.12 in /usr/local/lib/python3.10/dist-packages (from cryptography>=1.3->requests-ntlm>=1.1.0->qiskit-ibmq-provider==0.19.2->qiskit==0.37) (1.16.0)\n",
            "Requirement already satisfied: pycparser in /usr/local/lib/python3.10/dist-packages (from cffi>=1.12->cryptography>=1.3->requests-ntlm>=1.1.0->qiskit-ibmq-provider==0.19.2->qiskit==0.37) (2.22)\n"
          ]
        }
      ],
      "source": [
        "!pip install qiskit==0.37\n",
        "\n"
      ]
    },
    {
      "cell_type": "code",
      "source": [
        "\n",
        "!pip install qiskit-ibmq-provider\n",
        "\n"
      ],
      "metadata": {
        "colab": {
          "base_uri": "https://localhost:8080/"
        },
        "id": "GK631YvA7tWt",
        "outputId": "7e14d318-155e-4802-c0b6-2248147df4a1"
      },
      "execution_count": 3,
      "outputs": [
        {
          "output_type": "stream",
          "name": "stdout",
          "text": [
            "Requirement already satisfied: qiskit-ibmq-provider in /usr/local/lib/python3.10/dist-packages (0.19.2)\n",
            "Requirement already satisfied: qiskit-terra>=0.18.0 in /usr/local/lib/python3.10/dist-packages (from qiskit-ibmq-provider) (0.21.0)\n",
            "Requirement already satisfied: requests>=2.19 in /usr/local/lib/python3.10/dist-packages (from qiskit-ibmq-provider) (2.31.0)\n",
            "Requirement already satisfied: requests-ntlm>=1.1.0 in /usr/local/lib/python3.10/dist-packages (from qiskit-ibmq-provider) (1.2.0)\n",
            "Requirement already satisfied: numpy>=1.13 in /usr/local/lib/python3.10/dist-packages (from qiskit-ibmq-provider) (1.25.2)\n",
            "Requirement already satisfied: urllib3>=1.21.1 in /usr/local/lib/python3.10/dist-packages (from qiskit-ibmq-provider) (2.0.7)\n",
            "Requirement already satisfied: python-dateutil>=2.8.0 in /usr/local/lib/python3.10/dist-packages (from qiskit-ibmq-provider) (2.8.2)\n",
            "Requirement already satisfied: websocket-client>=1.0.1 in /usr/local/lib/python3.10/dist-packages (from qiskit-ibmq-provider) (1.7.0)\n",
            "Requirement already satisfied: websockets>=10.0 in /usr/local/lib/python3.10/dist-packages (from qiskit-ibmq-provider) (12.0)\n",
            "Requirement already satisfied: six>=1.5 in /usr/local/lib/python3.10/dist-packages (from python-dateutil>=2.8.0->qiskit-ibmq-provider) (1.16.0)\n",
            "Requirement already satisfied: retworkx>=0.11.0 in /usr/local/lib/python3.10/dist-packages (from qiskit-terra>=0.18.0->qiskit-ibmq-provider) (0.14.2)\n",
            "Requirement already satisfied: ply>=3.10 in /usr/local/lib/python3.10/dist-packages (from qiskit-terra>=0.18.0->qiskit-ibmq-provider) (3.11)\n",
            "Requirement already satisfied: psutil>=5 in /usr/local/lib/python3.10/dist-packages (from qiskit-terra>=0.18.0->qiskit-ibmq-provider) (5.9.5)\n",
            "Requirement already satisfied: scipy>=1.5 in /usr/local/lib/python3.10/dist-packages (from qiskit-terra>=0.18.0->qiskit-ibmq-provider) (1.11.4)\n",
            "Requirement already satisfied: sympy>=1.3 in /usr/local/lib/python3.10/dist-packages (from qiskit-terra>=0.18.0->qiskit-ibmq-provider) (1.12)\n",
            "Requirement already satisfied: dill>=0.3 in /usr/local/lib/python3.10/dist-packages (from qiskit-terra>=0.18.0->qiskit-ibmq-provider) (0.3.8)\n",
            "Requirement already satisfied: stevedore>=3.0.0 in /usr/local/lib/python3.10/dist-packages (from qiskit-terra>=0.18.0->qiskit-ibmq-provider) (5.2.0)\n",
            "Requirement already satisfied: tweedledum<2.0,>=1.1 in /usr/local/lib/python3.10/dist-packages (from qiskit-terra>=0.18.0->qiskit-ibmq-provider) (1.1.1)\n",
            "Requirement already satisfied: symengine>=0.9 in /usr/local/lib/python3.10/dist-packages (from qiskit-terra>=0.18.0->qiskit-ibmq-provider) (0.11.0)\n",
            "Requirement already satisfied: charset-normalizer<4,>=2 in /usr/local/lib/python3.10/dist-packages (from requests>=2.19->qiskit-ibmq-provider) (3.3.2)\n",
            "Requirement already satisfied: idna<4,>=2.5 in /usr/local/lib/python3.10/dist-packages (from requests>=2.19->qiskit-ibmq-provider) (3.6)\n",
            "Requirement already satisfied: certifi>=2017.4.17 in /usr/local/lib/python3.10/dist-packages (from requests>=2.19->qiskit-ibmq-provider) (2024.2.2)\n",
            "Requirement already satisfied: cryptography>=1.3 in /usr/local/lib/python3.10/dist-packages (from requests-ntlm>=1.1.0->qiskit-ibmq-provider) (42.0.5)\n",
            "Requirement already satisfied: pyspnego>=0.1.6 in /usr/local/lib/python3.10/dist-packages (from requests-ntlm>=1.1.0->qiskit-ibmq-provider) (0.10.2)\n",
            "Requirement already satisfied: cffi>=1.12 in /usr/local/lib/python3.10/dist-packages (from cryptography>=1.3->requests-ntlm>=1.1.0->qiskit-ibmq-provider) (1.16.0)\n",
            "Requirement already satisfied: rustworkx==0.14.2 in /usr/local/lib/python3.10/dist-packages (from retworkx>=0.11.0->qiskit-terra>=0.18.0->qiskit-ibmq-provider) (0.14.2)\n",
            "Requirement already satisfied: pbr!=2.1.0,>=2.0.0 in /usr/local/lib/python3.10/dist-packages (from stevedore>=3.0.0->qiskit-terra>=0.18.0->qiskit-ibmq-provider) (6.0.0)\n",
            "Requirement already satisfied: mpmath>=0.19 in /usr/local/lib/python3.10/dist-packages (from sympy>=1.3->qiskit-terra>=0.18.0->qiskit-ibmq-provider) (1.3.0)\n",
            "Requirement already satisfied: pycparser in /usr/local/lib/python3.10/dist-packages (from cffi>=1.12->cryptography>=1.3->requests-ntlm>=1.1.0->qiskit-ibmq-provider) (2.22)\n"
          ]
        }
      ]
    },
    {
      "cell_type": "code",
      "source": [
        "%matplotlib inline\n",
        "\n",
        "from qiskit import QuantumCircuit, execute, Aer, IBMQ\n",
        "from qiskit.compiler import transpile, assemble\n",
        "from qiskit.tools.jupyter import *\n",
        "from qiskit.visualization import *\n",
        "\n",
        "\n",
        "\n"
      ],
      "metadata": {
        "id": "OKn5PLO265cU"
      },
      "execution_count": 4,
      "outputs": []
    },
    {
      "cell_type": "code",
      "source": [
        "import numpy as np"
      ],
      "metadata": {
        "id": "Wq5ohyXPGZUn"
      },
      "execution_count": 5,
      "outputs": []
    },
    {
      "cell_type": "code",
      "source": [
        "n = 3\n",
        "\n",
        "const_oracle = QuantumCircuit(n + 1)\n",
        "\n",
        "output = np.random.randint(2)\n",
        "\n",
        "if output == 0:\n",
        "    const_oracle.x(n)\n",
        "\n",
        "const_oracle.draw()"
      ],
      "metadata": {
        "colab": {
          "base_uri": "https://localhost:8080/",
          "height": 156
        },
        "id": "MxuKi-gCcNyq",
        "outputId": "feeb6a58-e690-4999-acde-2cfded07099e"
      },
      "execution_count": 6,
      "outputs": [
        {
          "output_type": "execute_result",
          "data": {
            "text/plain": [
              "     \n",
              "q_0: \n",
              "     \n",
              "q_1: \n",
              "     \n",
              "q_2: \n",
              "     \n",
              "q_3: \n",
              "     "
            ],
            "text/html": [
              "<pre style=\"word-wrap: normal;white-space: pre;background: #fff0;line-height: 1.1;font-family: &quot;Courier New&quot;,Courier,monospace\">     \n",
              "q_0: \n",
              "     \n",
              "q_1: \n",
              "     \n",
              "q_2: \n",
              "     \n",
              "q_3: \n",
              "     </pre>"
            ]
          },
          "metadata": {},
          "execution_count": 6
        }
      ]
    },
    {
      "cell_type": "code",
      "source": [
        "balanced_oracle = QuantumCircuit(n + 1)\n",
        "\n",
        "for i in range(n):\n",
        "    balanced_oracle.cx(i, n)\n",
        "\n",
        "balanced_oracle.draw()"
      ],
      "metadata": {
        "colab": {
          "base_uri": "https://localhost:8080/",
          "height": 156
        },
        "id": "MMGr8CZ6kzD4",
        "outputId": "9ab7535a-48eb-48fc-db04-1f46f7407fc5"
      },
      "execution_count": 7,
      "outputs": [
        {
          "output_type": "execute_result",
          "data": {
            "text/plain": [
              "                    \n",
              "q_0: ──■────────────\n",
              "       │            \n",
              "q_1: ──┼────■───────\n",
              "       │    │       \n",
              "q_2: ──┼────┼────■──\n",
              "     ┌─┴─┐┌─┴─┐┌─┴─┐\n",
              "q_3: ┤ X ├┤ X ├┤ X ├\n",
              "     └───┘└───┘└───┘"
            ],
            "text/html": [
              "<pre style=\"word-wrap: normal;white-space: pre;background: #fff0;line-height: 1.1;font-family: &quot;Courier New&quot;,Courier,monospace\">                    \n",
              "q_0: ──■────────────\n",
              "       │            \n",
              "q_1: ──┼────■───────\n",
              "       │    │       \n",
              "q_2: ──┼────┼────■──\n",
              "     ┌─┴─┐┌─┴─┐┌─┴─┐\n",
              "q_3: ┤ X ├┤ X ├┤ X ├\n",
              "     └───┘└───┘└───┘</pre>"
            ]
          },
          "metadata": {},
          "execution_count": 7
        }
      ]
    },
    {
      "cell_type": "code",
      "source": [
        "dj_circuit = QuantumCircuit(n + 1, n)"
      ],
      "metadata": {
        "id": "RICBxLBul6GX"
      },
      "execution_count": 8,
      "outputs": []
    },
    {
      "cell_type": "code",
      "source": [
        "dj_circuit.draw()"
      ],
      "metadata": {
        "colab": {
          "base_uri": "https://localhost:8080/",
          "height": 186
        },
        "id": "s_8Y-YO3mnXX",
        "outputId": "7f5eb1bb-c5b7-49b0-d923-8c45d4112294"
      },
      "execution_count": 9,
      "outputs": [
        {
          "output_type": "execute_result",
          "data": {
            "text/plain": [
              "     \n",
              "q_0: \n",
              "     \n",
              "q_1: \n",
              "     \n",
              "q_2: \n",
              "     \n",
              "q_3: \n",
              "     \n",
              "c: 3/\n",
              "     "
            ],
            "text/html": [
              "<pre style=\"word-wrap: normal;white-space: pre;background: #fff0;line-height: 1.1;font-family: &quot;Courier New&quot;,Courier,monospace\">     \n",
              "q_0: \n",
              "     \n",
              "q_1: \n",
              "     \n",
              "q_2: \n",
              "     \n",
              "q_3: \n",
              "     \n",
              "c: 3/\n",
              "     </pre>"
            ]
          },
          "metadata": {},
          "execution_count": 9
        }
      ]
    },
    {
      "cell_type": "code",
      "source": [
        "for qubit in range(n):\n",
        "  dj_circuit.h(qubit)\n"
      ],
      "metadata": {
        "id": "XF5vuF21oP-L"
      },
      "execution_count": 10,
      "outputs": []
    },
    {
      "cell_type": "code",
      "source": [
        "dj_circuit.draw()"
      ],
      "metadata": {
        "colab": {
          "base_uri": "https://localhost:8080/",
          "height": 186
        },
        "id": "eS3R8DfgqAXL",
        "outputId": "eff70b06-f81c-4447-ec5f-4dd6e29a2fa3"
      },
      "execution_count": 11,
      "outputs": [
        {
          "output_type": "execute_result",
          "data": {
            "text/plain": [
              "     ┌───┐\n",
              "q_0: ┤ H ├\n",
              "     ├───┤\n",
              "q_1: ┤ H ├\n",
              "     ├───┤\n",
              "q_2: ┤ H ├\n",
              "     └───┘\n",
              "q_3: ─────\n",
              "          \n",
              "c: 3/═════\n",
              "          "
            ],
            "text/html": [
              "<pre style=\"word-wrap: normal;white-space: pre;background: #fff0;line-height: 1.1;font-family: &quot;Courier New&quot;,Courier,monospace\">     ┌───┐\n",
              "q_0: ┤ H ├\n",
              "     ├───┤\n",
              "q_1: ┤ H ├\n",
              "     ├───┤\n",
              "q_2: ┤ H ├\n",
              "     └───┘\n",
              "q_3: ─────\n",
              "          \n",
              "c: 3/═════\n",
              "          </pre>"
            ]
          },
          "metadata": {},
          "execution_count": 11
        }
      ]
    },
    {
      "cell_type": "code",
      "source": [
        "dj_circuit.x(n)"
      ],
      "metadata": {
        "colab": {
          "base_uri": "https://localhost:8080/"
        },
        "id": "6GePWIsTqCK5",
        "outputId": "f614b2f7-503b-4f2f-a1d8-05a83c313edf"
      },
      "execution_count": 12,
      "outputs": [
        {
          "output_type": "execute_result",
          "data": {
            "text/plain": [
              "<qiskit.circuit.instructionset.InstructionSet at 0x7b9ac1ae9450>"
            ]
          },
          "metadata": {},
          "execution_count": 12
        }
      ]
    },
    {
      "cell_type": "code",
      "source": [
        "dj_circuit.draw()"
      ],
      "metadata": {
        "colab": {
          "base_uri": "https://localhost:8080/",
          "height": 186
        },
        "id": "jmj3PvSOqN3G",
        "outputId": "08a3c663-9ddd-449f-9067-6d9aeb16ba23"
      },
      "execution_count": 13,
      "outputs": [
        {
          "output_type": "execute_result",
          "data": {
            "text/plain": [
              "     ┌───┐\n",
              "q_0: ┤ H ├\n",
              "     ├───┤\n",
              "q_1: ┤ H ├\n",
              "     ├───┤\n",
              "q_2: ┤ H ├\n",
              "     ├───┤\n",
              "q_3: ┤ X ├\n",
              "     └───┘\n",
              "c: 3/═════\n",
              "          "
            ],
            "text/html": [
              "<pre style=\"word-wrap: normal;white-space: pre;background: #fff0;line-height: 1.1;font-family: &quot;Courier New&quot;,Courier,monospace\">     ┌───┐\n",
              "q_0: ┤ H ├\n",
              "     ├───┤\n",
              "q_1: ┤ H ├\n",
              "     ├───┤\n",
              "q_2: ┤ H ├\n",
              "     ├───┤\n",
              "q_3: ┤ X ├\n",
              "     └───┘\n",
              "c: 3/═════\n",
              "          </pre>"
            ]
          },
          "metadata": {},
          "execution_count": 13
        }
      ]
    },
    {
      "cell_type": "code",
      "source": [
        "dj_circuit.h(n)"
      ],
      "metadata": {
        "colab": {
          "base_uri": "https://localhost:8080/"
        },
        "id": "uX4lEpVdqYVE",
        "outputId": "6b030802-c025-4cec-824f-0d7da973b72d"
      },
      "execution_count": 14,
      "outputs": [
        {
          "output_type": "execute_result",
          "data": {
            "text/plain": [
              "<qiskit.circuit.instructionset.InstructionSet at 0x7b9ac1ae9a20>"
            ]
          },
          "metadata": {},
          "execution_count": 14
        }
      ]
    },
    {
      "cell_type": "code",
      "source": [
        "dj_circuit.draw()"
      ],
      "metadata": {
        "colab": {
          "base_uri": "https://localhost:8080/",
          "height": 186
        },
        "id": "d4BfQkEKqkha",
        "outputId": "0dea472f-a300-4958-df8b-dd35fb01d92c"
      },
      "execution_count": 15,
      "outputs": [
        {
          "output_type": "execute_result",
          "data": {
            "text/plain": [
              "     ┌───┐     \n",
              "q_0: ┤ H ├─────\n",
              "     ├───┤     \n",
              "q_1: ┤ H ├─────\n",
              "     ├───┤     \n",
              "q_2: ┤ H ├─────\n",
              "     ├───┤┌───┐\n",
              "q_3: ┤ X ├┤ H ├\n",
              "     └───┘└───┘\n",
              "c: 3/══════════\n",
              "               "
            ],
            "text/html": [
              "<pre style=\"word-wrap: normal;white-space: pre;background: #fff0;line-height: 1.1;font-family: &quot;Courier New&quot;,Courier,monospace\">     ┌───┐     \n",
              "q_0: ┤ H ├─────\n",
              "     ├───┤     \n",
              "q_1: ┤ H ├─────\n",
              "     ├───┤     \n",
              "q_2: ┤ H ├─────\n",
              "     ├───┤┌───┐\n",
              "q_3: ┤ X ├┤ H ├\n",
              "     └───┘└───┘\n",
              "c: 3/══════════\n",
              "               </pre>"
            ]
          },
          "metadata": {},
          "execution_count": 15
        }
      ]
    },
    {
      "cell_type": "code",
      "source": [
        "dj_circuit.barrier()"
      ],
      "metadata": {
        "colab": {
          "base_uri": "https://localhost:8080/"
        },
        "id": "ss-p9hkBqmjf",
        "outputId": "aff61a69-b032-45dd-e07c-aeb69409b375"
      },
      "execution_count": 16,
      "outputs": [
        {
          "output_type": "execute_result",
          "data": {
            "text/plain": [
              "<qiskit.circuit.instructionset.InstructionSet at 0x7b9ac1ae99c0>"
            ]
          },
          "metadata": {},
          "execution_count": 16
        }
      ]
    },
    {
      "cell_type": "code",
      "source": [
        "dj_circuit.draw()"
      ],
      "metadata": {
        "colab": {
          "base_uri": "https://localhost:8080/",
          "height": 186
        },
        "id": "rGIvp-F0qpaU",
        "outputId": "d419bbdb-2548-4fca-b61a-44f01be8b1bb"
      },
      "execution_count": 17,
      "outputs": [
        {
          "output_type": "execute_result",
          "data": {
            "text/plain": [
              "     ┌───┐      ░ \n",
              "q_0: ┤ H ├──────░─\n",
              "     ├───┤      ░ \n",
              "q_1: ┤ H ├──────░─\n",
              "     ├───┤      ░ \n",
              "q_2: ┤ H ├──────░─\n",
              "     ├───┤┌───┐ ░ \n",
              "q_3: ┤ X ├┤ H ├─░─\n",
              "     └───┘└───┘ ░ \n",
              "c: 3/═════════════\n",
              "                  "
            ],
            "text/html": [
              "<pre style=\"word-wrap: normal;white-space: pre;background: #fff0;line-height: 1.1;font-family: &quot;Courier New&quot;,Courier,monospace\">     ┌───┐      ░ \n",
              "q_0: ┤ H ├──────░─\n",
              "     ├───┤      ░ \n",
              "q_1: ┤ H ├──────░─\n",
              "     ├───┤      ░ \n",
              "q_2: ┤ H ├──────░─\n",
              "     ├───┤┌───┐ ░ \n",
              "q_3: ┤ X ├┤ H ├─░─\n",
              "     └───┘└───┘ ░ \n",
              "c: 3/═════════════\n",
              "                  </pre>"
            ]
          },
          "metadata": {},
          "execution_count": 17
        }
      ]
    },
    {
      "cell_type": "code",
      "source": [
        "dj_circuit+=balanced_oracle"
      ],
      "metadata": {
        "colab": {
          "base_uri": "https://localhost:8080/"
        },
        "id": "m6M0tkPWqtHT",
        "outputId": "4b9f845a-efb2-4201-d829-e0b499f4b5a1"
      },
      "execution_count": 18,
      "outputs": [
        {
          "output_type": "stream",
          "name": "stderr",
          "text": [
            "<ipython-input-18-64b299be11e8>:1: DeprecationWarning: The QuantumCircuit.__iadd__() method is being deprecated. Use the compose() (potentially with the inplace=True argument) and tensor() methods which are more flexible w.r.t circuit register compatibility.\n",
            "  dj_circuit+=balanced_oracle\n"
          ]
        }
      ]
    },
    {
      "cell_type": "code",
      "source": [
        "dj_circuit.draw()"
      ],
      "metadata": {
        "colab": {
          "base_uri": "https://localhost:8080/",
          "height": 186
        },
        "id": "j2VPHxQjqzxg",
        "outputId": "dc0e0c7f-4082-4021-de25-31799809240e"
      },
      "execution_count": 19,
      "outputs": [
        {
          "output_type": "execute_result",
          "data": {
            "text/plain": [
              "     ┌───┐      ░                \n",
              "q_0: ┤ H ├──────░───■────────────\n",
              "     ├───┤      ░   │            \n",
              "q_1: ┤ H ├──────░───┼────■───────\n",
              "     ├───┤      ░   │    │       \n",
              "q_2: ┤ H ├──────░───┼────┼────■──\n",
              "     ├───┤┌───┐ ░ ┌─┴─┐┌─┴─┐┌─┴─┐\n",
              "q_3: ┤ X ├┤ H ├─░─┤ X ├┤ X ├┤ X ├\n",
              "     └───┘└───┘ ░ └───┘└───┘└───┘\n",
              "c: 3/════════════════════════════\n",
              "                                 "
            ],
            "text/html": [
              "<pre style=\"word-wrap: normal;white-space: pre;background: #fff0;line-height: 1.1;font-family: &quot;Courier New&quot;,Courier,monospace\">     ┌───┐      ░                \n",
              "q_0: ┤ H ├──────░───■────────────\n",
              "     ├───┤      ░   │            \n",
              "q_1: ┤ H ├──────░───┼────■───────\n",
              "     ├───┤      ░   │    │       \n",
              "q_2: ┤ H ├──────░───┼────┼────■──\n",
              "     ├───┤┌───┐ ░ ┌─┴─┐┌─┴─┐┌─┴─┐\n",
              "q_3: ┤ X ├┤ H ├─░─┤ X ├┤ X ├┤ X ├\n",
              "     └───┘└───┘ ░ └───┘└───┘└───┘\n",
              "c: 3/════════════════════════════\n",
              "                                 </pre>"
            ]
          },
          "metadata": {},
          "execution_count": 19
        }
      ]
    },
    {
      "cell_type": "code",
      "source": [
        "dj_circuit.barrier()\n",
        "dj_circuit.draw()"
      ],
      "metadata": {
        "colab": {
          "base_uri": "https://localhost:8080/",
          "height": 186
        },
        "id": "Q9j9rnzSrAes",
        "outputId": "39e3b231-5f3a-4690-ad20-81e4ff67ff5e"
      },
      "execution_count": 20,
      "outputs": [
        {
          "output_type": "execute_result",
          "data": {
            "text/plain": [
              "     ┌───┐      ░                 ░ \n",
              "q_0: ┤ H ├──────░───■─────────────░─\n",
              "     ├───┤      ░   │             ░ \n",
              "q_1: ┤ H ├──────░───┼────■────────░─\n",
              "     ├───┤      ░   │    │        ░ \n",
              "q_2: ┤ H ├──────░───┼────┼────■───░─\n",
              "     ├───┤┌───┐ ░ ┌─┴─┐┌─┴─┐┌─┴─┐ ░ \n",
              "q_3: ┤ X ├┤ H ├─░─┤ X ├┤ X ├┤ X ├─░─\n",
              "     └───┘└───┘ ░ └───┘└───┘└───┘ ░ \n",
              "c: 3/═══════════════════════════════\n",
              "                                    "
            ],
            "text/html": [
              "<pre style=\"word-wrap: normal;white-space: pre;background: #fff0;line-height: 1.1;font-family: &quot;Courier New&quot;,Courier,monospace\">     ┌───┐      ░                 ░ \n",
              "q_0: ┤ H ├──────░───■─────────────░─\n",
              "     ├───┤      ░   │             ░ \n",
              "q_1: ┤ H ├──────░───┼────■────────░─\n",
              "     ├───┤      ░   │    │        ░ \n",
              "q_2: ┤ H ├──────░───┼────┼────■───░─\n",
              "     ├───┤┌───┐ ░ ┌─┴─┐┌─┴─┐┌─┴─┐ ░ \n",
              "q_3: ┤ X ├┤ H ├─░─┤ X ├┤ X ├┤ X ├─░─\n",
              "     └───┘└───┘ ░ └───┘└───┘└───┘ ░ \n",
              "c: 3/═══════════════════════════════\n",
              "                                    </pre>"
            ]
          },
          "metadata": {},
          "execution_count": 20
        }
      ]
    },
    {
      "cell_type": "code",
      "source": [
        "for qubit in range(n):\n",
        "  dj_circuit.h(qubit)\n",
        "\n",
        "for qubit in range(n):\n",
        "  dj_circuit.measure(qubit, qubit)"
      ],
      "metadata": {
        "id": "5txGPd3arH8W"
      },
      "execution_count": 21,
      "outputs": []
    },
    {
      "cell_type": "code",
      "source": [
        "dj_circuit.draw()"
      ],
      "metadata": {
        "colab": {
          "base_uri": "https://localhost:8080/",
          "height": 186
        },
        "id": "37hVBC9yshyj",
        "outputId": "1bed55c5-fb1e-40ed-d16e-47e714fe9d2d"
      },
      "execution_count": 22,
      "outputs": [
        {
          "output_type": "execute_result",
          "data": {
            "text/plain": [
              "     ┌───┐      ░                 ░ ┌───┐┌─┐      \n",
              "q_0: ┤ H ├──────░───■─────────────░─┤ H ├┤M├──────\n",
              "     ├───┤      ░   │             ░ ├───┤└╥┘┌─┐   \n",
              "q_1: ┤ H ├──────░───┼────■────────░─┤ H ├─╫─┤M├───\n",
              "     ├───┤      ░   │    │        ░ ├───┤ ║ └╥┘┌─┐\n",
              "q_2: ┤ H ├──────░───┼────┼────■───░─┤ H ├─╫──╫─┤M├\n",
              "     ├───┤┌───┐ ░ ┌─┴─┐┌─┴─┐┌─┴─┐ ░ └───┘ ║  ║ └╥┘\n",
              "q_3: ┤ X ├┤ H ├─░─┤ X ├┤ X ├┤ X ├─░───────╫──╫──╫─\n",
              "     └───┘└───┘ ░ └───┘└───┘└───┘ ░       ║  ║  ║ \n",
              "c: 3/═════════════════════════════════════╩══╩══╩═\n",
              "                                          0  1  2 "
            ],
            "text/html": [
              "<pre style=\"word-wrap: normal;white-space: pre;background: #fff0;line-height: 1.1;font-family: &quot;Courier New&quot;,Courier,monospace\">     ┌───┐      ░                 ░ ┌───┐┌─┐      \n",
              "q_0: ┤ H ├──────░───■─────────────░─┤ H ├┤M├──────\n",
              "     ├───┤      ░   │             ░ ├───┤└╥┘┌─┐   \n",
              "q_1: ┤ H ├──────░───┼────■────────░─┤ H ├─╫─┤M├───\n",
              "     ├───┤      ░   │    │        ░ ├───┤ ║ └╥┘┌─┐\n",
              "q_2: ┤ H ├──────░───┼────┼────■───░─┤ H ├─╫──╫─┤M├\n",
              "     ├───┤┌───┐ ░ ┌─┴─┐┌─┴─┐┌─┴─┐ ░ └───┘ ║  ║ └╥┘\n",
              "q_3: ┤ X ├┤ H ├─░─┤ X ├┤ X ├┤ X ├─░───────╫──╫──╫─\n",
              "     └───┘└───┘ ░ └───┘└───┘└───┘ ░       ║  ║  ║ \n",
              "c: 3/═════════════════════════════════════╩══╩══╩═\n",
              "                                          0  1  2 </pre>"
            ]
          },
          "metadata": {},
          "execution_count": 22
        }
      ]
    },
    {
      "cell_type": "code",
      "source": [
        "qasm_sim = Aer.get_backend('qasm_simulator')\n",
        "\n",
        "shots = 1\n",
        "\n",
        "qobj = assemble(dj_circuit,qasm_sim)\n",
        "\n",
        "results = qasm_sim.run(qobj).result()\n",
        "\n",
        "answer = results.get_counts()\n",
        "\n",
        "plot_histogram(answer)\n",
        "\n"
      ],
      "metadata": {
        "id": "lOqlS-G9srnh",
        "colab": {
          "base_uri": "https://localhost:8080/",
          "height": 473
        },
        "outputId": "5421679a-91b8-43c3-c64a-1b2a34f2436c"
      },
      "execution_count": 23,
      "outputs": [
        {
          "output_type": "execute_result",
          "data": {
            "text/plain": [
              "<Figure size 700x500 with 1 Axes>"
            ],
            "image/png": "[encoded data removed]"
          },
          "metadata": {},
          "execution_count": 23
        }
      ]
    },
    {
      "cell_type": "code",
      "source": [
        "from qiskit import IBMQ\n",
        "\n",
        "# Replace 'YOUR_API_TOKEN' with your actual IBM Quantum Experience API token\n",
        "IBMQ.save_account('token', overwrite=True)"
      ],
      "metadata": {
        "id": "zKNEie38Uqrq"
      },
      "execution_count": 24,
      "outputs": []
    },
    {
      "cell_type": "code",
      "source": [
        "IBMQ.load_account()"
      ],
      "metadata": {
        "colab": {
          "base_uri": "https://localhost:8080/"
        },
        "id": "i4D1CeWEVY7L",
        "outputId": "6b622f52-66eb-461f-d0ed-5e0d083d0e6b"
      },
      "execution_count": 25,
      "outputs": [
        {
          "output_type": "execute_result",
          "data": {
            "text/plain": [
              "<AccountProvider for IBMQ(hub='ibm-q', group='open', project='main')>"
            ]
          },
          "metadata": {},
          "execution_count": 25
        }
      ]
    },
    {
      "cell_type": "code",
      "source": [
        "provider = IBMQ.get_provider('ibm-q')\n",
        "\n",
        "# Fetch all backends and print their status\n",
        "for backend in provider.backends():\n",
        "    status = backend.status()\n",
        "    config = backend.configuration()\n",
        "    print(f\"Backend: {backend.name()}\")\n",
        "    print(\"  Operational:\", status.operational)\n",
        "    print(\"  Pending jobs:\", status.pending_jobs)\n",
        "    print(\"  Qubits:\", config.n_qubits)\n",
        "    print(\"  Simulator:\", config.simulator)\n",
        "    print(\"  Backend type:\", \"Quantum computer\" if not config.simulator else \"Simulator\")\n",
        "    print()"
      ],
      "metadata": {
        "colab": {
          "base_uri": "https://localhost:8080/"
        },
        "id": "BXOIiRhnVa5a",
        "outputId": "57a6f674-2653-4ae9-815c-59ad45bcb7b4"
      },
      "execution_count": 26,
      "outputs": [
        {
          "output_type": "stream",
          "name": "stdout",
          "text": [
            "Backend: ibmq_qasm_simulator\n",
            "  Operational: True\n",
            "  Pending jobs: 0\n",
            "  Qubits: 32\n",
            "  Simulator: True\n",
            "  Backend type: Simulator\n",
            "\n",
            "Backend: simulator_statevector\n",
            "  Operational: True\n",
            "  Pending jobs: 0\n",
            "  Qubits: 32\n",
            "  Simulator: True\n",
            "  Backend type: Simulator\n",
            "\n",
            "Backend: simulator_mps\n",
            "  Operational: True\n",
            "  Pending jobs: 0\n",
            "  Qubits: 100\n",
            "  Simulator: True\n",
            "  Backend type: Simulator\n",
            "\n",
            "Backend: simulator_extended_stabilizer\n",
            "  Operational: True\n",
            "  Pending jobs: 0\n",
            "  Qubits: 63\n",
            "  Simulator: True\n",
            "  Backend type: Simulator\n",
            "\n",
            "Backend: simulator_stabilizer\n",
            "  Operational: True\n",
            "  Pending jobs: 0\n",
            "  Qubits: 5000\n",
            "  Simulator: True\n",
            "  Backend type: Simulator\n",
            "\n",
            "Backend: ibm_sherbrooke\n",
            "  Operational: True\n",
            "  Pending jobs: 302\n",
            "  Qubits: 127\n",
            "  Simulator: False\n",
            "  Backend type: Quantum computer\n",
            "\n",
            "Backend: ibm_brisbane\n",
            "  Operational: True\n",
            "  Pending jobs: 1173\n",
            "  Qubits: 127\n",
            "  Simulator: False\n",
            "  Backend type: Quantum computer\n",
            "\n",
            "Backend: ibm_kyoto\n",
            "  Operational: True\n",
            "  Pending jobs: 30\n",
            "  Qubits: 127\n",
            "  Simulator: False\n",
            "  Backend type: Quantum computer\n",
            "\n",
            "Backend: ibm_osaka\n",
            "  Operational: True\n",
            "  Pending jobs: 517\n",
            "  Qubits: 127\n",
            "  Simulator: False\n",
            "  Backend type: Quantum computer\n",
            "\n"
          ]
        }
      ]
    },
    {
      "cell_type": "code",
      "source": [
        "provider = IBMQ.get_provider('ibm-q')\n",
        "qcomp = provider.get_backend('ibm_kyoto')"
      ],
      "metadata": {
        "id": "bKINTRVGVqsI"
      },
      "execution_count": 27,
      "outputs": []
    },
    {
      "cell_type": "code",
      "source": [
        "qasm_sim = Aer.get_backend('qasm_simulator')\n",
        "\n",
        "shots = 1\n",
        "\n",
        "qobj = assemble(dj_circuit,qasm_sim)\n",
        "\n",
        "results = qasm_sim.run(qobj).result()\n",
        "\n",
        "answer = results.get_counts()\n",
        "\n",
        "plot_histogram(answer)"
      ],
      "metadata": {
        "id": "FiX8Zud6Vxmf"
      },
      "execution_count": null,
      "outputs": []
    },
    {
      "cell_type": "code",
      "source": [
        "from qiskit.tools.monitor import job_monitor\n",
        "\n",
        "job = execute(dj_circuit, qcomp, shots=1)\n",
        "\n",
        "\n"
      ],
      "metadata": {
        "id": "91re5mCkWG-n"
      },
      "execution_count": 29,
      "outputs": []
    },
    {
      "cell_type": "code",
      "source": [
        "job_monitor(job)"
      ],
      "metadata": {
        "colab": {
          "base_uri": "https://localhost:8080/",
          "height": 34
        },
        "id": "qKJL9yMwWbUo",
        "outputId": "af3c16a1-e949-47f4-b976-50d24dc63301"
      },
      "execution_count": 30,
      "outputs": [
        {
          "output_type": "stream",
          "name": "stdout",
          "text": [
            "Job Status: job has successfully run\n"
          ]
        }
      ]
    },
    {
      "cell_type": "code",
      "source": [
        "results = job.result()\n",
        "counts = results.get_counts(dj_circuit)\n",
        "print(counts)"
      ],
      "metadata": {
        "colab": {
          "base_uri": "https://localhost:8080/"
        },
        "id": "Fo_9Flzew-Eh",
        "outputId": "de0a2495-d348-4f61-fc93-956f052bc200"
      },
      "execution_count": 32,
      "outputs": [
        {
          "output_type": "stream",
          "name": "stdout",
          "text": [
            "{'111': 1}\n"
          ]
        }
      ]
    }
  ]
}